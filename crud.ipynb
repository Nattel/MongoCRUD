{
 "cells": [
  {
   "cell_type": "markdown",
   "metadata": {},
   "source": [
    "# Notebook para aprendizado de mongo\n",
    "\n",
    "Esse notebook serve unicamente para eu aprender as funções básicas do mongo antes de colocá-lo em um projeto, para isso farei um CRUD em uma collection, além de outras manipulações básicas."
   ]
  },
  {
   "cell_type": "markdown",
   "metadata": {},
   "source": [
    "### Instalações e imports necessários"
   ]
  },
  {
   "cell_type": "code",
   "execution_count": 60,
   "metadata": {},
   "outputs": [
    {
     "name": "stdout",
     "output_type": "stream",
     "text": [
      "Requirement already satisfied: pymongo in c:\\users\\joselara\\appdata\\local\\programs\\python\\python38\\lib\\site-packages (3.10.1)\n"
     ]
    }
   ],
   "source": [
    "! pip install pymongo\n",
    "from pymongo import MongoClient\n",
    "import csv\n",
    "from pprint import pprint"
   ]
  },
  {
   "cell_type": "markdown",
   "metadata": {},
   "source": [
    "### Conexão"
   ]
  },
  {
   "cell_type": "markdown",
   "metadata": {},
   "source": [
    "A url é na verdade a connection string provida pelo MongoDBCompass, ainda devo ter o trabalho de criar um cluster na nuvem para trabalhar com isso de um jeito mais correto, mas por enquanto escolho deixar isso em aberto e focar no CRUD em sí.\n",
    "\n",
    "Já a célula seguinte ocorre o passo a passo da conexção com uma collection. Primeiro entra com o cliente, depois em um banco de dados dentro desse cliente e por fim no banco de dados é possível acessar a collection.\n",
    "\n",
    "Salvei os dados que eu quero fazer upload em um csv. Nesse exato momento é 00h18 e eu estou sem criatividade, então essa coleção teste será sobre algo um tanto estranho: as letras do teclado do meu notebook. "
   ]
  },
  {
   "cell_type": "code",
   "execution_count": 13,
   "metadata": {},
   "outputs": [],
   "source": [
    "url = 'mongodb://localhost:27017/?readPreference=primary&appname=MongoDB%20Compass%20Community&ssl=false'"
   ]
  },
  {
   "cell_type": "code",
   "execution_count": 106,
   "metadata": {
    "scrolled": true
   },
   "outputs": [],
   "source": [
    "client = MongoClient(url)\n",
    "db = client.get_database('computador')\n",
    "col = db.get_collection('teclado')"
   ]
  },
  {
   "cell_type": "code",
   "execution_count": 130,
   "metadata": {
    "scrolled": true
   },
   "outputs": [],
   "source": [
    "teclado = []\n",
    "tecla = {}\n",
    "\n",
    "with open('board_data.csv', 'r', encoding='utf-8-sig') as data:\n",
    "    reader = csv.reader(data)\n",
    "    keys = next(reader)\n",
    "    for row in reader:\n",
    "        tecla = {}\n",
    "        for tup in zip(keys, row):\n",
    "            if tup[1] != '':\n",
    "                try:\n",
    "                    tecla.update({tup[0]:float(tup[1])})\n",
    "                except ValueError:\n",
    "                    tecla.update({tup[0]:tup[1]})\n",
    "        teclado.append(tecla)    "
   ]
  },
  {
   "cell_type": "markdown",
   "metadata": {},
   "source": [
    "### Create\n",
    "Primeiro me foi um tanto estranho ter duas funções diferentes para isso, mas até que faz sentido pra ser mais flexível dependendo do caso.\n",
    "\n",
    "A primeira insere apenas um, enquanto que a segunda está inserindo todos os outros."
   ]
  },
  {
   "cell_type": "code",
   "execution_count": 131,
   "metadata": {},
   "outputs": [
    {
     "data": {
      "text/plain": [
       "<pymongo.results.InsertManyResult at 0x2294c8ba740>"
      ]
     },
     "execution_count": 131,
     "metadata": {},
     "output_type": "execute_result"
    }
   ],
   "source": [
    "col.insert_one(\n",
    "    teclado[0]\n",
    ")\n",
    "\n",
    "col.insert_many(\n",
    "    teclado[1:len(teclado)]\n",
    ")"
   ]
  },
  {
   "cell_type": "markdown",
   "metadata": {},
   "source": [
    "### Read"
   ]
  },
  {
   "cell_type": "code",
   "execution_count": 109,
   "metadata": {
    "scrolled": true
   },
   "outputs": [
    {
     "name": "stdout",
     "output_type": "stream",
     "text": [
      "{'_id': ObjectId('5f090ccb7fdd86351b5840a6'), 'name': 'ze', 'type': 'letter', 'character': 'z', 'shift': 'Z', 'common_action': 'writes letter z', 'size_x': '1', 'size_y': '1'}\n",
      "{'_id': ObjectId('5f090ccb7fdd86351b5840a7'), 'name': 'xis', 'type': 'letter', 'character': 'x', 'shift': 'X', 'common_action': 'writes letter x', 'size_x': '1', 'size_y': '1'}\n",
      "{'_id': ObjectId('5f090ccb7fdd86351b5840a8'), 'name': 'ce', 'type': 'letter', 'character': 'c', 'shift': 'C', 'common_action': 'writes letter c', 'size_x': '1', 'size_y': '1'}\n",
      "{'_id': ObjectId('5f090ccb7fdd86351b5840a9'), 'name': 'comma', 'type': 'punctuation mark', 'character': ',', 'shift': '<', 'common_action': 'writes a comma', 'description': 'both characters on the left, comma lower than symbol of less than ', 'size_x': '1', 'size_y': '1'}\n",
      "{'_id': ObjectId('5f090ccb7fdd86351b5840aa'), 'name': 'shift', 'type': 'command', 'common_action': 'Change the size of the letters or use the top character', 'size_x': '3', 'size_y': '1'}\n",
      "{'_id': ObjectId('5f090ccb7fdd86351b5840ab'), 'name': 'f1', 'type': 'command', 'common_action': 'ask for help', 'description': 'no-sound icon with F1 writen on down-right, top-right has a led light that turns red when wound is off', 'function': 'turns on/off the sound', 'size_x': '0.8', 'size_y': '0.5'}\n"
     ]
    }
   ],
   "source": [
    "# pega todos os documentos dessa coleção\n",
    "cur = col.find({})\n",
    "for doc in cur:\n",
    "    print(doc)"
   ]
  },
  {
   "cell_type": "code",
   "execution_count": 83,
   "metadata": {},
   "outputs": [
    {
     "name": "stdout",
     "output_type": "stream",
     "text": [
      "{'_id': ObjectId('5f090ccb7fdd86351b5840a9'),\n",
      " 'character': ',',\n",
      " 'common_action': 'writes a comma',\n",
      " 'description': 'both characters on the left, comma lower than symbol of less '\n",
      "                'than ',\n",
      " 'name': 'comma',\n",
      " 'shift': '<',\n",
      " 'size_x': '1',\n",
      " 'size_y': '1',\n",
      " 'type': 'punctuation mark'}\n"
     ]
    }
   ],
   "source": [
    "# só traz o primeiro, caso tenham mais com esse nome poderia ser um problema\n",
    "cur = col.find({'name':'comma'})\n",
    "pprint(cur.next())"
   ]
  },
  {
   "cell_type": "code",
   "execution_count": 114,
   "metadata": {},
   "outputs": [
    {
     "name": "stdout",
     "output_type": "stream",
     "text": [
      "{'_id': ObjectId('5f090ccb7fdd86351b5840aa'),\n",
      " 'common_action': 'Change the size of the letters or use the top character',\n",
      " 'name': 'shift',\n",
      " 'size_x': '3',\n",
      " 'size_y': '1',\n",
      " 'type': 'command'}\n",
      "{'_id': ObjectId('5f090ccb7fdd86351b5840ab'),\n",
      " 'common_action': 'ask for help',\n",
      " 'description': 'no-sound icon with F1 writen on down-right, top-right has a '\n",
      "                'led light that turns red when wound is off',\n",
      " 'function': 'turns on/off the sound',\n",
      " 'name': 'f1',\n",
      " 'size_x': '0.8',\n",
      " 'size_y': '0.5',\n",
      " 'type': 'command'}\n"
     ]
    }
   ],
   "source": [
    "# $ne é um operador para 'not equal' existem outros que eu vou explorar depois já que parece algo bem básico e útil\n",
    "cur = col.find(\n",
    "    {'size_x': {'$ne': '1'}}\n",
    ")\n",
    "for doc in cur:\n",
    "    pprint(doc)"
   ]
  },
  {
   "cell_type": "markdown",
   "metadata": {},
   "source": [
    "### Update\n",
    "Eu reparei que tinha medido o shift errado, na verdade (pelas proporções de uma tecla média + duas pequenas) a medida é de x é 2.6"
   ]
  },
  {
   "cell_type": "code",
   "execution_count": 115,
   "metadata": {},
   "outputs": [
    {
     "name": "stderr",
     "output_type": "stream",
     "text": [
      "<ipython-input-115-440a69f6813a>:1: DeprecationWarning: update is deprecated. Use replace_one, update_one or update_many instead.\n",
      "  col.update(\n"
     ]
    },
    {
     "data": {
      "text/plain": [
       "{'n': 1, 'nModified': 1, 'ok': 1.0, 'updatedExisting': True}"
      ]
     },
     "execution_count": 115,
     "metadata": {},
     "output_type": "execute_result"
    }
   ],
   "source": [
    "col.update(\n",
    "    {'name': 'shift'}, \n",
    "    {'$set':\n",
    "     {'size_x': '2.6'}\n",
    "    }\n",
    ")"
   ]
  },
  {
   "cell_type": "code",
   "execution_count": 117,
   "metadata": {},
   "outputs": [
    {
     "name": "stdout",
     "output_type": "stream",
     "text": [
      "{'_id': ObjectId('5f090ccb7fdd86351b5840aa'),\n",
      " 'common_action': 'Change the size of the letters or use the top character',\n",
      " 'name': 'shift',\n",
      " 'size_x': '2.6',\n",
      " 'size_y': '1',\n",
      " 'type': 'command'}\n"
     ]
    }
   ],
   "source": [
    "cur = col.find({'name': 'shift'})\n",
    "pprint(cur.next())"
   ]
  },
  {
   "cell_type": "markdown",
   "metadata": {},
   "source": [
    "### Delete"
   ]
  },
  {
   "cell_type": "code",
   "execution_count": 124,
   "metadata": {},
   "outputs": [
    {
     "name": "stdout",
     "output_type": "stream",
     "text": [
      "{'_id': ObjectId('5f090ccb7fdd86351b5840a8'),\n",
      " 'character': 'c',\n",
      " 'common_action': 'writes letter c',\n",
      " 'name': 'ce',\n",
      " 'shift': 'C',\n",
      " 'size_x': '1',\n",
      " 'size_y': '1',\n",
      " 'type': 'letter'}\n",
      "{'_id': ObjectId('5f090ccb7fdd86351b5840a9'),\n",
      " 'character': ',',\n",
      " 'common_action': 'writes a comma',\n",
      " 'description': 'both characters on the left, comma lower than symbol of less '\n",
      "                'than ',\n",
      " 'name': 'comma',\n",
      " 'shift': '<',\n",
      " 'size_x': '1',\n",
      " 'size_y': '1',\n",
      " 'type': 'punctuation mark'}\n",
      "{'_id': ObjectId('5f090ccb7fdd86351b5840ab'),\n",
      " 'common_action': 'ask for help',\n",
      " 'description': 'no-sound icon with F1 writen on down-right, top-right has a '\n",
      "                'led light that turns red when wound is off',\n",
      " 'function': 'turns on/off the sound',\n",
      " 'name': 'f1',\n",
      " 'size_x': '0.8',\n",
      " 'size_y': '0.5',\n",
      " 'type': 'command'}\n"
     ]
    }
   ],
   "source": [
    "#apesar de haver dois com type command apenas o primeiro é excluído\n",
    "\n",
    "col.delete_one({'character':'z'})\n",
    "col.delete_one({'character':'x'})\n",
    "col.delete_one({'type':'command'})\n",
    "cur = col.find({})\n",
    "for doc in cur:\n",
    "    pprint(doc)"
   ]
  },
  {
   "cell_type": "code",
   "execution_count": 129,
   "metadata": {},
   "outputs": [],
   "source": [
    "# no caso como não há nada nos brackets isso será praticamente um drop\n",
    "col.delete_many({})\n",
    "cur = col.find({})\n",
    "for doc in cur:\n",
    "    pprint(doc)"
   ]
  },
  {
   "cell_type": "code",
   "execution_count": null,
   "metadata": {},
   "outputs": [],
   "source": []
  }
 ],
 "metadata": {
  "kernelspec": {
   "display_name": "Python 3",
   "language": "python",
   "name": "python3"
  },
  "language_info": {
   "codemirror_mode": {
    "name": "ipython",
    "version": 3
   },
   "file_extension": ".py",
   "mimetype": "text/x-python",
   "name": "python",
   "nbconvert_exporter": "python",
   "pygments_lexer": "ipython3",
   "version": "3.8.1"
  }
 },
 "nbformat": 4,
 "nbformat_minor": 4
}
