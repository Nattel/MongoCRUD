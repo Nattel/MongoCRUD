{
 "cells": [
  {
   "cell_type": "markdown",
   "metadata": {},
   "source": [
    "# Notebook para aprendizado de mongo\n",
    "\n",
    "Esse notebook serve unicamente para eu aprender as funções básicas do mongo antes de colocá-lo em um projeto, para isso farei um CRUD em uma collection, além de outras manipulações básicas.\n",
    "\n",
    "Verifiquei que a cada requisição feita no banco ele conta como uma connection nova, deixando ali em aberto por um ou dois minutos. Devo melhorar isso para usar apenas uma conexão ao longo do notebook."
   ]
  },
  {
   "cell_type": "markdown",
   "metadata": {},
   "source": [
    "### Instalações e imports necessários\n",
    "Talvez você precise reiniciar o kernel depois dessa ação"
   ]
  },
  {
   "cell_type": "code",
   "execution_count": 1,
   "metadata": {},
   "outputs": [
    {
     "name": "stdout",
     "output_type": "stream",
     "text": [
      "Requirement already satisfied: pymongo in c:\\users\\joselara\\appdata\\local\\programs\\python\\python38\\lib\\site-packages (3.10.1)\n",
      "Requirement already satisfied: dnspython in c:\\users\\joselara\\appdata\\local\\programs\\python\\python38\\lib\\site-packages (1.16.0)\n",
      "Requirement already satisfied: python-dotenv in c:\\users\\joselara\\appdata\\local\\programs\\python\\python38\\lib\\site-packages (0.14.0)\n"
     ]
    }
   ],
   "source": [
    "! pip install pymongo\n",
    "! pip install dnspython\n",
    "! pip install python-dotenv\n",
    "from pymongo import MongoClient\n",
    "import csv\n",
    "from pprint import pprint\n",
    "from dotenv import load_dotenv\n",
    "import os"
   ]
  },
  {
   "cell_type": "code",
   "execution_count": 2,
   "metadata": {},
   "outputs": [
    {
     "data": {
      "text/plain": [
       "True"
      ]
     },
     "execution_count": 2,
     "metadata": {},
     "output_type": "execute_result"
    }
   ],
   "source": [
    "load_dotenv(dotenv_path='.env')"
   ]
  },
  {
   "cell_type": "markdown",
   "metadata": {},
   "source": [
    "### Conexão"
   ]
  },
  {
   "cell_type": "markdown",
   "metadata": {},
   "source": [
    "A conexão é feita usando as credenciais de um arquivo .env, eles são gerados da criação do cluster na cloud do MongoDB.\n",
    "\n",
    "Já nas células seguintes ocorre a verificação das databases no cluster e o passo-a-passo da conexão com uma collection. Primeiro entra com o cliente, depois em um banco de dados dentro desse cliente e por fim no banco de dados é possível acessar a collection.\n",
    "\n",
    "Salvei os dados que eu quero fazer upload em um csv. Nesse exato momento é 00h18 e eu estou sem criatividade, então essa coleção teste será sobre algo um tanto estranho: as letras do teclado do meu notebook. "
   ]
  },
  {
   "cell_type": "code",
   "execution_count": 3,
   "metadata": {},
   "outputs": [],
   "source": [
    "user = os.getenv('user')\n",
    "password = os.getenv('password')\n",
    "cluster = os.getenv('cluster')\n",
    "url = 'mongodb+srv://'+user+':'+password+'@'+cluster+'.kivsk.gcp.mongodb.net/'"
   ]
  },
  {
   "cell_type": "code",
   "execution_count": 4,
   "metadata": {
    "scrolled": true
   },
   "outputs": [
    {
     "name": "stdout",
     "output_type": "stream",
     "text": [
      "{'name': 'notebook', 'sizeOnDisk': 8192.0, 'empty': False}\n",
      "{'name': 'admin', 'sizeOnDisk': 294912.0, 'empty': False}\n",
      "{'name': 'local', 'sizeOnDisk': 1445871616.0, 'empty': False}\n"
     ]
    }
   ],
   "source": [
    "client = MongoClient(url)\n",
    "cursor = client.list_databases()\n",
    "for db in cursor:\n",
    "    print(db)"
   ]
  },
  {
   "cell_type": "code",
   "execution_count": 5,
   "metadata": {},
   "outputs": [],
   "source": [
    "db = client.get_database('notebook')\n",
    "col = db.get_collection('teclado')"
   ]
  },
  {
   "cell_type": "code",
   "execution_count": 6,
   "metadata": {
    "scrolled": true
   },
   "outputs": [],
   "source": [
    "teclado = []\n",
    "tecla = {}\n",
    "\n",
    "with open('board_data.csv', 'r', encoding='utf-8-sig') as data:\n",
    "    reader = csv.reader(data)\n",
    "    keys = next(reader)\n",
    "    for row in reader:\n",
    "        tecla = {}\n",
    "        for tup in zip(keys, row):\n",
    "            if tup[1] != '':\n",
    "                try:\n",
    "                    tecla.update({tup[0]:float(tup[1])})\n",
    "                except ValueError:\n",
    "                    tecla.update({tup[0]:tup[1]})\n",
    "        teclado.append(tecla)    "
   ]
  },
  {
   "cell_type": "markdown",
   "metadata": {},
   "source": [
    "### Create\n",
    "Primeiro me foi um tanto estranho ter duas funções diferentes para isso, mas até que faz sentido pra ser mais flexível dependendo do caso.\n",
    "\n",
    "A primeira insere apenas um, enquanto que a segunda está inserindo todos os outros."
   ]
  },
  {
   "cell_type": "code",
   "execution_count": 7,
   "metadata": {},
   "outputs": [
    {
     "data": {
      "text/plain": [
       "<pymongo.results.InsertManyResult at 0x250aefb0180>"
      ]
     },
     "execution_count": 7,
     "metadata": {},
     "output_type": "execute_result"
    }
   ],
   "source": [
    "col.insert_one(\n",
    "    teclado[0]\n",
    ")\n",
    "\n",
    "col.insert_many(\n",
    "    teclado[1:len(teclado)]\n",
    ")"
   ]
  },
  {
   "cell_type": "markdown",
   "metadata": {},
   "source": [
    "### Read"
   ]
  },
  {
   "cell_type": "code",
   "execution_count": 8,
   "metadata": {
    "scrolled": true
   },
   "outputs": [
    {
     "name": "stdout",
     "output_type": "stream",
     "text": [
      "{'_id': ObjectId('5f0a367036c2e66cc05bfe9c'), 'name': 'ze', 'type': 'letter', 'character': 'z', 'shift': 'Z', 'common_action': 'writes letter z', 'size_x': 1.0, 'size_y': 1.0}\n",
      "{'_id': ObjectId('5f0a367036c2e66cc05bfe9d'), 'name': 'xis', 'type': 'letter', 'character': 'x', 'shift': 'X', 'common_action': 'writes letter x', 'size_x': 1.0, 'size_y': 1.0}\n",
      "{'_id': ObjectId('5f0a367036c2e66cc05bfe9e'), 'name': 'ce', 'type': 'letter', 'character': 'c', 'shift': 'C', 'common_action': 'writes letter c', 'size_x': 1.0, 'size_y': 1.0}\n",
      "{'_id': ObjectId('5f0a367036c2e66cc05bfe9f'), 'name': 'comma', 'type': 'punctuation mark', 'character': ',', 'shift': '<', 'common_action': 'writes a comma', 'description': 'both characters on the left, comma lower than symbol of less than ', 'size_x': 1.0, 'size_y': 1.0}\n",
      "{'_id': ObjectId('5f0a367036c2e66cc05bfea0'), 'name': 'shift', 'type': 'command', 'common_action': 'Change the size of the letters or use the top character', 'size_x': 3.0, 'size_y': 1.0}\n",
      "{'_id': ObjectId('5f0a367036c2e66cc05bfea1'), 'name': 'f1', 'type': 'command', 'common_action': 'ask for help', 'description': 'no-sound icon with F1 writen on down-right, top-right has a led light that turns red when wound is off', 'function': 'turns on/off the sound', 'size_x': 0.8, 'size_y': 0.5}\n"
     ]
    }
   ],
   "source": [
    "# pega todos os documentos dessa coleção\n",
    "cur = col.find({})\n",
    "for doc in cur:\n",
    "    print(doc)"
   ]
  },
  {
   "cell_type": "code",
   "execution_count": 9,
   "metadata": {},
   "outputs": [
    {
     "name": "stdout",
     "output_type": "stream",
     "text": [
      "{'_id': ObjectId('5f0a367036c2e66cc05bfe9f'),\n",
      " 'character': ',',\n",
      " 'common_action': 'writes a comma',\n",
      " 'description': 'both characters on the left, comma lower than symbol of less '\n",
      "                'than ',\n",
      " 'name': 'comma',\n",
      " 'shift': '<',\n",
      " 'size_x': 1.0,\n",
      " 'size_y': 1.0,\n",
      " 'type': 'punctuation mark'}\n"
     ]
    }
   ],
   "source": [
    "# só traz o primeiro, caso tenham mais com esse nome poderia ser um problema\n",
    "cur = col.find({'name':'comma'})\n",
    "pprint(cur.next())"
   ]
  },
  {
   "cell_type": "code",
   "execution_count": 10,
   "metadata": {},
   "outputs": [
    {
     "name": "stdout",
     "output_type": "stream",
     "text": [
      "{'_id': ObjectId('5f0a367036c2e66cc05bfe9c'),\n",
      " 'character': 'z',\n",
      " 'common_action': 'writes letter z',\n",
      " 'name': 'ze',\n",
      " 'shift': 'Z',\n",
      " 'size_x': 1.0,\n",
      " 'size_y': 1.0,\n",
      " 'type': 'letter'}\n",
      "{'_id': ObjectId('5f0a367036c2e66cc05bfe9d'),\n",
      " 'character': 'x',\n",
      " 'common_action': 'writes letter x',\n",
      " 'name': 'xis',\n",
      " 'shift': 'X',\n",
      " 'size_x': 1.0,\n",
      " 'size_y': 1.0,\n",
      " 'type': 'letter'}\n",
      "{'_id': ObjectId('5f0a367036c2e66cc05bfe9e'),\n",
      " 'character': 'c',\n",
      " 'common_action': 'writes letter c',\n",
      " 'name': 'ce',\n",
      " 'shift': 'C',\n",
      " 'size_x': 1.0,\n",
      " 'size_y': 1.0,\n",
      " 'type': 'letter'}\n",
      "{'_id': ObjectId('5f0a367036c2e66cc05bfe9f'),\n",
      " 'character': ',',\n",
      " 'common_action': 'writes a comma',\n",
      " 'description': 'both characters on the left, comma lower than symbol of less '\n",
      "                'than ',\n",
      " 'name': 'comma',\n",
      " 'shift': '<',\n",
      " 'size_x': 1.0,\n",
      " 'size_y': 1.0,\n",
      " 'type': 'punctuation mark'}\n",
      "{'_id': ObjectId('5f0a367036c2e66cc05bfea0'),\n",
      " 'common_action': 'Change the size of the letters or use the top character',\n",
      " 'name': 'shift',\n",
      " 'size_x': 3.0,\n",
      " 'size_y': 1.0,\n",
      " 'type': 'command'}\n",
      "{'_id': ObjectId('5f0a367036c2e66cc05bfea1'),\n",
      " 'common_action': 'ask for help',\n",
      " 'description': 'no-sound icon with F1 writen on down-right, top-right has a '\n",
      "                'led light that turns red when wound is off',\n",
      " 'function': 'turns on/off the sound',\n",
      " 'name': 'f1',\n",
      " 'size_x': 0.8,\n",
      " 'size_y': 0.5,\n",
      " 'type': 'command'}\n"
     ]
    }
   ],
   "source": [
    "# $ne é um operador para 'not equal' existem outros que eu vou explorar depois já que parece algo bem básico e útil\n",
    "cur = col.find(\n",
    "    {'size_x': {'$ne': '1'}}\n",
    ")\n",
    "for doc in cur:\n",
    "    pprint(doc)"
   ]
  },
  {
   "cell_type": "markdown",
   "metadata": {},
   "source": [
    "### Update\n",
    "Eu reparei que tinha medido o shift errado, na verdade (pelas proporções de uma tecla média + duas pequenas) a medida é de x é 2.6"
   ]
  },
  {
   "cell_type": "code",
   "execution_count": 11,
   "metadata": {},
   "outputs": [
    {
     "name": "stderr",
     "output_type": "stream",
     "text": [
      "<ipython-input-11-74817acf9bda>:1: DeprecationWarning: update is deprecated. Use replace_one, update_one or update_many instead.\n",
      "  col.update(\n"
     ]
    },
    {
     "data": {
      "text/plain": [
       "{'n': 1,\n",
       " 'nModified': 1,\n",
       " 'opTime': {'ts': Timestamp(1594504911, 1), 't': 7},\n",
       " 'electionId': ObjectId('7fffffff0000000000000007'),\n",
       " 'ok': 1.0,\n",
       " '$clusterTime': {'clusterTime': Timestamp(1594504911, 1),\n",
       "  'signature': {'hash': b'\\xa4\\xbd\\x9e\\x83\\x7fE\\xcb S\\xef>\\x152vD\\x95\\xa46\\xbbJ',\n",
       "   'keyId': 6845058786030256131}},\n",
       " 'operationTime': Timestamp(1594504911, 1),\n",
       " 'updatedExisting': True}"
      ]
     },
     "execution_count": 11,
     "metadata": {},
     "output_type": "execute_result"
    }
   ],
   "source": [
    "col.update(\n",
    "    {'name': 'shift'}, \n",
    "    {'$set':\n",
    "     {'size_x': '2.6'}\n",
    "    }\n",
    ")"
   ]
  },
  {
   "cell_type": "code",
   "execution_count": 12,
   "metadata": {},
   "outputs": [
    {
     "name": "stdout",
     "output_type": "stream",
     "text": [
      "{'_id': ObjectId('5f0a367036c2e66cc05bfea0'),\n",
      " 'common_action': 'Change the size of the letters or use the top character',\n",
      " 'name': 'shift',\n",
      " 'size_x': '2.6',\n",
      " 'size_y': 1.0,\n",
      " 'type': 'command'}\n"
     ]
    }
   ],
   "source": [
    "cur = col.find({'name': 'shift'})\n",
    "pprint(cur.next())"
   ]
  },
  {
   "cell_type": "markdown",
   "metadata": {},
   "source": [
    "### Delete"
   ]
  },
  {
   "cell_type": "code",
   "execution_count": 13,
   "metadata": {},
   "outputs": [
    {
     "name": "stdout",
     "output_type": "stream",
     "text": [
      "{'_id': ObjectId('5f0a367036c2e66cc05bfe9e'),\n",
      " 'character': 'c',\n",
      " 'common_action': 'writes letter c',\n",
      " 'name': 'ce',\n",
      " 'shift': 'C',\n",
      " 'size_x': 1.0,\n",
      " 'size_y': 1.0,\n",
      " 'type': 'letter'}\n",
      "{'_id': ObjectId('5f0a367036c2e66cc05bfe9f'),\n",
      " 'character': ',',\n",
      " 'common_action': 'writes a comma',\n",
      " 'description': 'both characters on the left, comma lower than symbol of less '\n",
      "                'than ',\n",
      " 'name': 'comma',\n",
      " 'shift': '<',\n",
      " 'size_x': 1.0,\n",
      " 'size_y': 1.0,\n",
      " 'type': 'punctuation mark'}\n",
      "{'_id': ObjectId('5f0a367036c2e66cc05bfea1'),\n",
      " 'common_action': 'ask for help',\n",
      " 'description': 'no-sound icon with F1 writen on down-right, top-right has a '\n",
      "                'led light that turns red when wound is off',\n",
      " 'function': 'turns on/off the sound',\n",
      " 'name': 'f1',\n",
      " 'size_x': 0.8,\n",
      " 'size_y': 0.5,\n",
      " 'type': 'command'}\n"
     ]
    }
   ],
   "source": [
    "#apesar de haver dois com type command apenas o primeiro é excluído\n",
    "\n",
    "col.delete_one({'character':'z'})\n",
    "col.delete_one({'character':'x'})\n",
    "col.delete_one({'type':'command'})\n",
    "cur = col.find({})\n",
    "for doc in cur:\n",
    "    pprint(doc)"
   ]
  },
  {
   "cell_type": "code",
   "execution_count": 14,
   "metadata": {},
   "outputs": [],
   "source": [
    "# no caso como não há nada nos brackets isso será praticamente um drop\n",
    "col.delete_many({})\n",
    "cur = col.find({})\n",
    "for doc in cur:\n",
    "    pprint(doc)"
   ]
  },
  {
   "cell_type": "markdown",
   "metadata": {},
   "source": [
    "### Das ist alles Leute"
   ]
  },
  {
   "cell_type": "code",
   "execution_count": 15,
   "metadata": {},
   "outputs": [],
   "source": [
    "client.close()"
   ]
  }
 ],
 "metadata": {
  "kernelspec": {
   "display_name": "Python 3",
   "language": "python",
   "name": "python3"
  },
  "language_info": {
   "codemirror_mode": {
    "name": "ipython",
    "version": 3
   },
   "file_extension": ".py",
   "mimetype": "text/x-python",
   "name": "python",
   "nbconvert_exporter": "python",
   "pygments_lexer": "ipython3",
   "version": "3.8.1"
  }
 },
 "nbformat": 4,
 "nbformat_minor": 4
}
